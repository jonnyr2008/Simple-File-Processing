{
 "cells": [
  {
   "cell_type": "code",
   "execution_count": 48,
   "metadata": {},
   "outputs": [],
   "source": [
    "import os, sys\n",
    "from os import listdir\n",
    "from os.path import isfile, join\n",
    "from os import walk\n",
    "import librosa as lr\n",
    "import librosa.display\n",
    "import IPython.display\n",
    "\n",
    "# Open a file\n",
    "path = \"D:\\VOiCES\\source-16k\\\\\"\n",
    "dirs = os.listdir( path )\n",
    "\n",
    "a = []\n",
    "# Processing all files names in full path name\n",
    "for dir in dirs:\n",
    "    dir_full_path = os.path.join(path, dir)\n",
    "    if dir != \".DS_Store\" and dir != \".\" and dir != \"..\":\n",
    "        for root, dirss, files in os.walk(dir_full_path):\n",
    "            for filename in files:\n",
    "                file_full_path = os.path.join(dir_full_path, filename)\n",
    "                a.append(file_full_path)\n",
    "\n",
    "# print(a)\n",
    "\n",
    "f = []\n",
    "# Open files all files in a\n",
    "for item in a:\n",
    "    # if item.endwith(\".wav\"):\n",
    "    #f.append(open(item, \"r\"))\n",
    "\n",
    "n = []\n",
    "sp = []\n",
    "c = []\n",
    "# initialize counter to count num of speakers starting from 0\n",
    "counter = 0\n",
    "last_speaker_ID = a[0][23:27]\n",
    "# Extra file name from file path\n",
    "for item in a:\n",
    "    n.append(item[3:])\n",
    "    sp.append(item[23:27])\n",
    "    if last_speaker_ID != item[23:27]:\n",
    "        last_speaker_ID = item[23:27]\n",
    "        counter += 1\n",
    "    c.append(counter)\n",
    "# print(n)\n",
    "# print(sp)\n",
    "\n",
    "origin_stdout = sys.stdout\n",
    "output_file = open(\".\\Label_FileName_SpeakerID.txt\", \"w\")\n",
    "sys.stdout = output_file\n",
    "# Print content into txt\n",
    "for i in range(len(sp)):\n",
    "    print(n[i] + \" \" + sp[i] + \" \" + str(c[i]))\n",
    "sys.stdout = origin_stdout\n",
    "output_file.close()\n",
    "    \n",
    "readin_file = open(\".\\Label_FileName_SpeakerID.txt\", \"r\")\n"
   ]
  },
  {
   "cell_type": "code",
   "execution_count": null,
   "metadata": {},
   "outputs": [],
   "source": []
  }
 ],
 "metadata": {
  "kernelspec": {
   "display_name": "Python 3",
   "language": "python",
   "name": "python3"
  },
  "language_info": {
   "codemirror_mode": {
    "name": "ipython",
    "version": 3
   },
   "file_extension": ".py",
   "mimetype": "text/x-python",
   "name": "python",
   "nbconvert_exporter": "python",
   "pygments_lexer": "ipython3",
   "version": "3.7.1"
  }
 },
 "nbformat": 4,
 "nbformat_minor": 2
}
